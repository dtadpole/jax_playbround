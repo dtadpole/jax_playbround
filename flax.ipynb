{
 "cells": [
  {
   "cell_type": "code",
   "execution_count": 1,
   "metadata": {},
   "outputs": [],
   "source": [
    "import math\n",
    "import torch\n",
    "import matplotlib.pyplot as plt\n",
    "import numpy as np\n",
    "import jax\n",
    "from jax import random, numpy as jnp\n",
    "from pc2 import Network, Module, Dense, Sequential\n",
    "import datasets\n",
    "from PIL import Image\n",
    "import matplotlib.pyplot as plt\n",
    "# from clu import metrics\n",
    "import flax\n",
    "import flax.linen as nn\n",
    "import datasets\n",
    "import numpy.random as npr\n"
   ]
  },
  {
   "cell_type": "code",
   "execution_count": 2,
   "metadata": {},
   "outputs": [
    {
     "data": {
      "text/plain": [
       "<matplotlib.image.AxesImage at 0x7f4e70259f10>"
      ]
     },
     "execution_count": 2,
     "metadata": {},
     "output_type": "execute_result"
    },
    {
     "data": {
      "image/png": "[encoded data removed]",
      "text/plain": [
       "<Figure size 640x480 with 1 Axes>"
      ]
     },
     "metadata": {},
     "output_type": "display_data"
    }
   ],
   "source": [
    "train_images, train_labels, test_images, test_labels = datasets.mnist()\n",
    "plt.imshow(jnp.reshape(train_images[0], (28,28)))\n"
   ]
  },
  {
   "cell_type": "code",
   "execution_count": 3,
   "metadata": {},
   "outputs": [],
   "source": [
    "batch_size = 1024\n",
    "train_images, train_labels, test_images, test_labels = datasets.mnist()\n",
    "num_train = train_images.shape[0]\n",
    "num_complete_batches, leftover = divmod(num_train, batch_size)\n",
    "num_batches = num_complete_batches + bool(leftover)\n",
    "\n",
    "def data_stream():\n",
    "    rng = npr.RandomState(0)\n",
    "    while True:\n",
    "        perm = rng.permutation(num_train)\n",
    "        for i in range(num_batches):\n",
    "            batch_idx = perm[i * batch_size:(i + 1) * batch_size]\n",
    "            yield train_images[batch_idx], train_labels[batch_idx]\n",
    "batches = data_stream()\n"
   ]
  },
  {
   "cell_type": "code",
   "execution_count": 4,
   "metadata": {},
   "outputs": [],
   "source": [
    "class MLP(nn.Module):\n",
    "    # def setup(self):\n",
    "    #     self.dense1 = nn.Dense(1024)\n",
    "    #     self.dense2 = nn.Dense(10)\n",
    "\n",
    "    @nn.compact\n",
    "    def __call__(self, x):\n",
    "        x = nn.Dense(1024)(x)\n",
    "        # x = self.dense1(x)\n",
    "        x = nn.tanh(x)\n",
    "        x = nn.Dense(10)(x)\n",
    "        # x = self.dense2(x)\n",
    "        x = nn.activation.softmax(x)\n",
    "        return x\n",
    "\n",
    "model = MLP()"
   ]
  },
  {
   "cell_type": "code",
   "execution_count": 5,
   "metadata": {},
   "outputs": [
    {
     "name": "stdout",
     "output_type": "stream",
     "text": [
      "(1000, 784) (1000, 10)\n"
     ]
    },
    {
     "data": {
      "text/plain": [
       "{'params': {'Dense_0': {'bias': (1024,), 'kernel': (784, 1024)},\n",
       "  'Dense_1': {'bias': (10,), 'kernel': (1024, 10)}}}"
      ]
     },
     "execution_count": 5,
     "metadata": {},
     "output_type": "execute_result"
    }
   ],
   "source": [
    "key1, key2 = random.split(random.key(0))\n",
    "train_size=1000\n",
    "x = train_images[0:train_size]\n",
    "y = train_labels[0:train_size]\n",
    "print(x.shape, y.shape)\n",
    "params = model.init(key2, x) # Initialization call\n",
    "jax.tree_util.tree_map(lambda x: x.shape, params) # Checking output shapes"
   ]
  },
  {
   "cell_type": "code",
   "execution_count": 6,
   "metadata": {},
   "outputs": [
    {
     "data": {
      "text/plain": [
       "Array([[0.04699855, 0.07517353, 0.07229667, ..., 0.13136439, 0.1209725 ,\n",
       "        0.06899231],\n",
       "       [0.04957927, 0.07826361, 0.0543289 , ..., 0.09494812, 0.114541  ,\n",
       "        0.07375124],\n",
       "       [0.07304829, 0.07933359, 0.10769977, ..., 0.13269468, 0.10561708,\n",
       "        0.07004561],\n",
       "       ...,\n",
       "       [0.05949913, 0.08842745, 0.06820785, ..., 0.07883118, 0.09160868,\n",
       "        0.10491852],\n",
       "       [0.08793209, 0.09765116, 0.06932477, ..., 0.09212617, 0.10404621,\n",
       "        0.08604551],\n",
       "       [0.08983723, 0.11864541, 0.06745436, ..., 0.14635032, 0.09474164,\n",
       "        0.08494898]], dtype=float32)"
      ]
     },
     "execution_count": 6,
     "metadata": {},
     "output_type": "execute_result"
    }
   ],
   "source": [
    "model.apply(params, x)\n"
   ]
  },
  {
   "cell_type": "code",
   "execution_count": 7,
   "metadata": {},
   "outputs": [],
   "source": [
    "# Same as JAX version but using model.apply().\n",
    "@jax.jit\n",
    "def cross_entropy_loss(params, x_batched, y_batched):\n",
    "  def cross_entropy(x, y):\n",
    "    pred = model.apply(params, x)\n",
    "    return -jnp.sum(y * jnp.log(pred))\n",
    "  return jnp.mean(jax.vmap(cross_entropy)(x_batched,y_batched), axis=0)\n"
   ]
  },
  {
   "cell_type": "code",
   "execution_count": 8,
   "metadata": {},
   "outputs": [],
   "source": [
    "def accuracy(params, batch):\n",
    "    inputs, targets = batch\n",
    "    target_class = jnp.argmax(targets, axis=1)\n",
    "    predicted_class = jnp.argmax(model.apply(params, inputs), axis=1)\n",
    "    return jnp.mean(predicted_class == target_class)\n"
   ]
  },
  {
   "cell_type": "code",
   "execution_count": 9,
   "metadata": {},
   "outputs": [
    {
     "name": "stdout",
     "output_type": "stream",
     "text": [
      "<function cross_entropy_loss at 0x7f4e70181c60>\n",
      "Loss step 0:  0.53155446\n",
      "Training set accuracy 86.86%\n",
      "Test set accuracy 87.72%\n",
      "Loss step 10:  0.2999451\n",
      "Training set accuracy 91.64%\n",
      "Test set accuracy 91.85%\n",
      "Loss step 20:  0.2615211\n",
      "Training set accuracy 92.41%\n",
      "Test set accuracy 92.60%\n",
      "Loss step 30:  0.2953677\n",
      "Training set accuracy 93.10%\n",
      "Test set accuracy 93.05%\n",
      "Loss step 40:  0.17308256\n",
      "Training set accuracy 93.86%\n",
      "Test set accuracy 93.62%\n",
      "Loss step 50:  0.22357145\n",
      "Training set accuracy 94.53%\n",
      "Test set accuracy 94.21%\n",
      "Loss step 60:  0.17435804\n",
      "Training set accuracy 95.05%\n",
      "Test set accuracy 94.63%\n",
      "Loss step 70:  0.17509212\n",
      "Training set accuracy 95.71%\n",
      "Test set accuracy 95.24%\n",
      "Loss step 80:  0.14026102\n",
      "Training set accuracy 96.08%\n",
      "Test set accuracy 95.71%\n",
      "Loss step 90:  0.103190586\n",
      "Training set accuracy 96.53%\n",
      "Test set accuracy 96.04%\n",
      "Loss step 100:  0.12776417\n",
      "Training set accuracy 96.89%\n",
      "Test set accuracy 96.33%\n",
      "Loss step 110:  0.11034234\n",
      "Training set accuracy 97.15%\n",
      "Test set accuracy 96.51%\n",
      "Loss step 120:  0.08295543\n",
      "Training set accuracy 97.39%\n",
      "Test set accuracy 96.62%\n",
      "Loss step 130:  0.0846257\n",
      "Training set accuracy 97.62%\n",
      "Test set accuracy 96.77%\n",
      "Loss step 140:  0.067090265\n",
      "Training set accuracy 97.82%\n",
      "Test set accuracy 96.93%\n",
      "Loss step 150:  0.08567417\n",
      "Training set accuracy 97.94%\n",
      "Test set accuracy 97.11%\n",
      "Loss step 160:  0.09780285\n",
      "Training set accuracy 98.12%\n",
      "Test set accuracy 97.20%\n",
      "Loss step 170:  0.07531042\n",
      "Training set accuracy 98.24%\n",
      "Test set accuracy 97.27%\n",
      "Loss step 180:  0.041827504\n",
      "Training set accuracy 98.39%\n",
      "Test set accuracy 97.29%\n",
      "Loss step 190:  0.060928572\n",
      "Training set accuracy 98.46%\n",
      "Test set accuracy 97.32%\n",
      "Loss step 200:  0.04360339\n",
      "Training set accuracy 98.59%\n",
      "Test set accuracy 97.45%\n",
      "Loss step 210:  0.05198406\n",
      "Training set accuracy 98.70%\n",
      "Test set accuracy 97.52%\n",
      "Loss step 220:  0.049899224\n",
      "Training set accuracy 98.81%\n",
      "Test set accuracy 97.56%\n",
      "Loss step 230:  0.04342743\n",
      "Training set accuracy 98.88%\n",
      "Test set accuracy 97.59%\n",
      "Loss step 240:  0.051208716\n",
      "Training set accuracy 98.94%\n",
      "Test set accuracy 97.63%\n",
      "Loss step 250:  0.04022224\n",
      "Training set accuracy 99.01%\n",
      "Test set accuracy 97.68%\n",
      "Loss step 260:  0.030229913\n",
      "Training set accuracy 99.06%\n",
      "Test set accuracy 97.73%\n",
      "Loss step 270:  0.04240123\n",
      "Training set accuracy 99.13%\n",
      "Test set accuracy 97.77%\n",
      "Loss step 280:  0.04346806\n",
      "Training set accuracy 99.20%\n",
      "Test set accuracy 97.79%\n",
      "Loss step 290:  0.032105297\n",
      "Training set accuracy 99.24%\n",
      "Test set accuracy 97.82%\n",
      "Loss step 300:  0.023487967\n",
      "Training set accuracy 99.33%\n",
      "Test set accuracy 97.86%\n",
      "Loss step 310:  0.019056857\n",
      "Training set accuracy 99.36%\n",
      "Test set accuracy 97.91%\n",
      "Loss step 320:  0.032427866\n",
      "Training set accuracy 99.41%\n",
      "Test set accuracy 97.88%\n",
      "Loss step 330:  0.02949337\n",
      "Training set accuracy 99.49%\n",
      "Test set accuracy 97.92%\n",
      "Loss step 340:  0.04239329\n",
      "Training set accuracy 99.50%\n",
      "Test set accuracy 97.87%\n",
      "Loss step 350:  0.026723947\n",
      "Training set accuracy 99.53%\n",
      "Test set accuracy 97.92%\n",
      "Loss step 360:  0.018318644\n",
      "Training set accuracy 99.57%\n",
      "Test set accuracy 97.90%\n",
      "Loss step 370:  0.018061966\n",
      "Training set accuracy 99.60%\n",
      "Test set accuracy 97.92%\n",
      "Loss step 380:  0.020497577\n",
      "Training set accuracy 99.63%\n",
      "Test set accuracy 97.91%\n",
      "Loss step 390:  0.024423596\n",
      "Training set accuracy 99.65%\n",
      "Test set accuracy 97.95%\n",
      "Loss step 400:  0.023634488\n",
      "Training set accuracy 99.69%\n",
      "Test set accuracy 98.00%\n",
      "Loss step 410:  0.038482796\n",
      "Training set accuracy 99.71%\n",
      "Test set accuracy 98.00%\n",
      "Loss step 420:  0.018228173\n",
      "Training set accuracy 99.73%\n",
      "Test set accuracy 97.99%\n",
      "Loss step 430:  0.015010031\n",
      "Training set accuracy 99.76%\n",
      "Test set accuracy 98.00%\n",
      "Loss step 440:  0.01638102\n",
      "Training set accuracy 99.78%\n",
      "Test set accuracy 98.02%\n",
      "Loss step 450:  0.010420773\n",
      "Training set accuracy 99.78%\n",
      "Test set accuracy 98.02%\n",
      "Loss step 460:  0.016064245\n",
      "Training set accuracy 99.81%\n",
      "Test set accuracy 98.01%\n",
      "Loss step 470:  0.015717193\n",
      "Training set accuracy 99.82%\n",
      "Test set accuracy 98.02%\n",
      "Loss step 480:  0.0153779825\n",
      "Training set accuracy 99.84%\n",
      "Test set accuracy 97.97%\n",
      "Loss step 490:  0.009745492\n",
      "Training set accuracy 99.85%\n",
      "Test set accuracy 98.01%\n",
      "Loss step 500:  0.01262606\n",
      "Training set accuracy 99.87%\n",
      "Test set accuracy 98.04%\n"
     ]
    }
   ],
   "source": [
    "learning_rate = 0.1  # Gradient step size.\n",
    "loss_grad_fn = jax.value_and_grad(cross_entropy_loss)\n",
    "print(loss_grad_fn)\n",
    "\n",
    "@jax.jit\n",
    "def update_params(params, learning_rate, grads):\n",
    "  params = jax.tree_util.tree_map(\n",
    "      lambda p, g: p - learning_rate * g, params, grads)\n",
    "  return params\n",
    "\n",
    "for i in range(501):\n",
    "  # Perform one gradient update.\n",
    "  for _ in range(num_batches):\n",
    "    x, y = next(batches)\n",
    "    loss_val, grads = loss_grad_fn(params, x, y)\n",
    "    params = update_params(params, learning_rate, grads)\n",
    "\n",
    "  if i % 10 == 0:\n",
    "    print(f'Loss step {i}: ', loss_val)\n",
    "    train_acc = accuracy(params, (train_images, train_labels))\n",
    "    test_acc = accuracy(params, (test_images, test_labels))\n",
    "    print(f\"Training set accuracy {train_acc*100:0.2f}%\")\n",
    "    print(f\"Test set accuracy {test_acc*100:0.2f}%\")\n"
   ]
  },
  {
   "cell_type": "code",
   "execution_count": 10,
   "metadata": {},
   "outputs": [
    {
     "data": {
      "text/plain": [
       "Array([[6.8150144e+00, 1.1460138e-03, 1.1801200e+00],\n",
       "       [2.1912851e+00, 2.3726006e+00, 1.1289402e+00],\n",
       "       [2.9349127e-01, 2.8977572e-04, 7.4130140e-02]], dtype=float32)"
      ]
     },
     "execution_count": 10,
     "metadata": {},
     "output_type": "execute_result"
    }
   ],
   "source": [
    "a = jax.random.normal(key1, (3,3))\n",
    "b = jax.random.normal(key1, (3,3))\n",
    "a * b"
   ]
  },
  {
   "cell_type": "code",
   "execution_count": 12,
   "metadata": {},
   "outputs": [
    {
     "name": "stdout",
     "output_type": "stream",
     "text": [
      "None\n"
     ]
    }
   ],
   "source": [
    "print(model.scope)"
   ]
  },
  {
   "cell_type": "code",
   "execution_count": 13,
   "metadata": {},
   "outputs": [
    {
     "name": "stdout",
     "output_type": "stream",
     "text": [
      "{'params': {'Dense_0': {'bias': Array([-0.04238342,  0.0446732 ,  0.04759712, ..., -0.03485369,\n",
      "        0.03680721, -0.00253925], dtype=float32), 'kernel': Array([[ 0.07971383,  0.00994104, -0.03574973, ...,  0.00628182,\n",
      "         0.02120237,  0.02002901],\n",
      "       [ 0.04412211,  0.0430598 , -0.04036054, ...,  0.03124418,\n",
      "        -0.04736134, -0.02334021],\n",
      "       [ 0.01488651,  0.03339985,  0.03590554, ...,  0.04288763,\n",
      "        -0.01492494,  0.04700463],\n",
      "       ...,\n",
      "       [-0.00046571,  0.04048149, -0.03295735, ...,  0.0106256 ,\n",
      "         0.05399278,  0.0324134 ],\n",
      "       [-0.01125758, -0.00655999, -0.02332083, ...,  0.00946312,\n",
      "         0.00079829,  0.01359766],\n",
      "       [ 0.02846446, -0.0003765 ,  0.0099156 , ...,  0.00535347,\n",
      "         0.02542572, -0.07208928]], dtype=float32)}, 'Dense_1': {'bias': Array([-0.14579825,  0.31478858,  0.09580804, -0.12262518, -0.09328156,\n",
      "        0.45574516, -0.06302801,  0.32906225, -0.7084837 , -0.06215745],      dtype=float32), 'kernel': Array([[ 0.03785843, -0.06708796,  0.07577455, ..., -0.06327466,\n",
      "         0.13767764,  0.04021339],\n",
      "       [ 0.08310588,  0.1486273 , -0.06597716, ...,  0.06339181,\n",
      "         0.01983915, -0.19939287],\n",
      "       [-0.0137994 ,  0.1776505 ,  0.3708537 , ..., -0.101533  ,\n",
      "         0.09875904,  0.33713964],\n",
      "       ...,\n",
      "       [ 0.04247447,  0.12295645,  0.07136578, ..., -0.18582512,\n",
      "        -0.04790301,  0.11400912],\n",
      "       [-0.17618491,  0.10383126,  0.27689856, ...,  0.05809806,\n",
      "        -0.16218263,  0.22979023],\n",
      "       [-0.07857564, -0.01483271, -0.0392605 , ..., -0.01208381,\n",
      "         0.01960143, -0.06866007]], dtype=float32)}}}\n"
     ]
    },
    {
     "ename": "",
     "evalue": "",
     "output_type": "error",
     "traceback": [
      "\u001b[1;31mThe Kernel crashed while executing code in the the current cell or a previous cell. Please review the code in the cell(s) to identify a possible cause of the failure. Click <a href='https://aka.ms/vscodeJupyterKernelCrash'>here</a> for more info. View Jupyter <a href='command:jupyter.viewOutput'>log</a> for further details."
     ]
    }
   ],
   "source": [
    "print(params)"
   ]
  },
  {
   "cell_type": "code",
   "execution_count": null,
   "metadata": {},
   "outputs": [],
   "source": []
  }
 ],
 "metadata": {
  "kernelspec": {
   "display_name": "torch20",
   "language": "python",
   "name": "python3"
  },
  "language_info": {
   "codemirror_mode": {
    "name": "ipython",
    "version": 3
   },
   "file_extension": ".py",
   "mimetype": "text/x-python",
   "name": "python",
   "nbconvert_exporter": "python",
   "pygments_lexer": "ipython3",
   "version": "3.11.4"
  }
 },
 "nbformat": 4,
 "nbformat_minor": 2
}
